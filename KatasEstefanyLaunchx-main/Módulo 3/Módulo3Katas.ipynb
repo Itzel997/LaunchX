{
 "cells": [
  {
   "cell_type": "markdown",
   "metadata": {},
   "source": [
    "Ejercicio - Escribir declaraciones if, else, y elif"
   ]
  },
  {
   "cell_type": "code",
   "execution_count": null,
   "metadata": {},
   "outputs": [],
   "source": [
    "# Segmento de código de login_ ejercicio\n",
    "nombre= 'Rodrigo'\n",
    "passwd ='90Wsd3P'\n",
    "Usuario= input('Nombre de usuario: ')\n",
    "Passwd=  input('Contraseña: ')\n",
    "\n",
    "if nombre == Usuario:\n",
    "    if passwd == Passwd:\n",
    "        print('Bienvenido(a)', Usuario)\n",
    "    else:\n",
    "        print('Contraseña incorrecta')\n",
    "else:\n",
    "    print('Nombre de usuario no registrado')"
   ]
  },
  {
   "cell_type": "markdown",
   "metadata": {},
   "source": [
    "Problema #1 Cálculo de cercania de asteriode"
   ]
  },
  {
   "cell_type": "code",
   "execution_count": null,
   "metadata": {},
   "outputs": [],
   "source": [
    "#Para este ejercicio, escribirás una lógica condicional que imprima una advertencia si un asteroide se acerca a la Tierra demasiado rápido.\n",
    "# La velocidad del asteroide varía dependiendo de lo cerca que esté del sol, y cualquier velocidad superior a 25 kilómetros por segundo \n",
    "# (km/s) merece una advertencia.\n",
    "#\n",
    "#Un asteroide se acerca, y viaja a una velocidad de 49 km/s.\n",
    "\n",
    "v_asteroide= 49 # km/s\n",
    "\n",
    "if v_asteroide > 25:  #Prueba de velocidad de asteroide \n",
    "    print('Advertencia!. Asteroide aproximandose demasiado rápido a una velocidad de ',v_asteroide,' km/s')\n"
   ]
  },
  {
   "cell_type": "markdown",
   "metadata": {},
   "source": [
    "Problema #2 Destello de luz"
   ]
  },
  {
   "cell_type": "code",
   "execution_count": null,
   "metadata": {},
   "outputs": [],
   "source": [
    "#Si un asteroide entra en la atmósfera de la Tierra a una velocidad mayor o igual a 20 km/s, a veces produce un rayo de luz que se puede ver \n",
    "# desde la Tierra. Escribe la lógica condicional que usa declaraciones if, else, y elif para alertar a las personas de todo el mundo que deben\n",
    "# buscar un asteroide en el cielo. ¡Hay uno que se dirige a la tierra ahora a una velocidad de 19 km/s!\n",
    "\n",
    "v_asteroide1 = 19 #km/s\n",
    "if v_asteroide1 >20:\n",
    "    print('Asteroide cercano a la atmosfera. Mira al cielo, quizá puedas verlo.')\n",
    "elif v_asteroide1 == 20:\n",
    "    print('Mira arriba. Un asteroide ha entrado a la atmosfera')\n",
    "else:\n",
    "    print('')"
   ]
  },
  {
   "cell_type": "markdown",
   "metadata": {},
   "source": [
    "Ejercicio #3 Alerta de asteroides peligrosos para la tierra"
   ]
  },
  {
   "cell_type": "code",
   "execution_count": 7,
   "metadata": {},
   "outputs": [
    {
     "name": "stdout",
     "output_type": "stream",
     "text": [
      "Asteroide acercandose, pero sin peligro alguno\n"
     ]
    }
   ],
   "source": [
    "v_ast=19\n",
    "tam_pieza=24  #Tamaño de pieza de asteroide\n",
    "\n",
    "if v_ast>25:\n",
    "    print('Advertencia!!. Se acerca un asteroide muy peligroso')\n",
    "if v_ast>=20:\n",
    "  print('Mira arriba. Un asteroide ha entrado a la atmosfera')\n",
    "elif tam_pieza>=25:\n",
    "        print('Advertencia de impacto con la tierra. Probabilidad de daño alta')\n",
    "else:\n",
    "    print('Asteroide acercandose, pero sin peligro alguno')"
   ]
  },
  {
   "cell_type": "code",
   "execution_count": null,
   "metadata": {},
   "outputs": [],
   "source": []
  },
  {
   "cell_type": "code",
   "execution_count": null,
   "metadata": {},
   "outputs": [],
   "source": []
  }
 ],
 "metadata": {
  "interpreter": {
   "hash": "916dbcbb3f70747c44a77c7bcd40155683ae19c65e1c03b4aa3499c5328201f1"
  },
  "kernelspec": {
   "display_name": "Python 3.8.10 64-bit",
   "language": "python",
   "name": "python3"
  },
  "language_info": {
   "codemirror_mode": {
    "name": "ipython",
    "version": 3
   },
   "file_extension": ".py",
   "mimetype": "text/x-python",
   "name": "python",
   "nbconvert_exporter": "python",
   "pygments_lexer": "ipython3",
   "version": "3.8.10"
  },
  "orig_nbformat": 4
 },
 "nbformat": 4,
 "nbformat_minor": 2
}
